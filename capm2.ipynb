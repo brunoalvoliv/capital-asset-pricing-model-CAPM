{
 "cells": [
  {
   "cell_type": "markdown",
   "id": "0b22a552",
   "metadata": {},
   "source": [
    "## Bibliotecas"
   ]
  },
  {
   "cell_type": "code",
   "execution_count": 1,
   "id": "f3b7d512",
   "metadata": {},
   "outputs": [],
   "source": [
    "import pandas as pd\n",
    "import numpy as np\n",
    "import yfinance as yf\n",
    "import datetime as datetime\n",
    "import matplotlib.pyplot as plt\n",
    "import statsmodels.api as sm\n",
    "from sklearn.linear_model import LinearRegression"
   ]
  },
  {
   "cell_type": "code",
   "execution_count": 2,
   "id": "3597f989",
   "metadata": {},
   "outputs": [],
   "source": [
    "plt.style.use('fivethirtyeight')"
   ]
  },
  {
   "cell_type": "markdown",
   "id": "21d230fa",
   "metadata": {},
   "source": [
    "## Buscando dados"
   ]
  },
  {
   "cell_type": "code",
   "execution_count": 27,
   "id": "e2eeda8e",
   "metadata": {},
   "outputs": [
    {
     "name": "stdout",
     "output_type": "stream",
     "text": [
      "[*********************100%***********************]  1 of 1 completed\n",
      "[*********************100%***********************]  1 of 1 completed\n"
     ]
    },
    {
     "data": {
      "text/html": [
       "<div>\n",
       "<style scoped>\n",
       "    .dataframe tbody tr th:only-of-type {\n",
       "        vertical-align: middle;\n",
       "    }\n",
       "\n",
       "    .dataframe tbody tr th {\n",
       "        vertical-align: top;\n",
       "    }\n",
       "\n",
       "    .dataframe thead th {\n",
       "        text-align: right;\n",
       "    }\n",
       "</style>\n",
       "<table border=\"1\" class=\"dataframe\">\n",
       "  <thead>\n",
       "    <tr style=\"text-align: right;\">\n",
       "      <th></th>\n",
       "      <th>PETR4.SA</th>\n",
       "      <th>^BVSP</th>\n",
       "    </tr>\n",
       "    <tr>\n",
       "      <th>Date</th>\n",
       "      <th></th>\n",
       "      <th></th>\n",
       "    </tr>\n",
       "  </thead>\n",
       "  <tbody>\n",
       "    <tr>\n",
       "      <th>2019-01-01</th>\n",
       "      <td>19.751621</td>\n",
       "      <td>91699.0</td>\n",
       "    </tr>\n",
       "    <tr>\n",
       "      <th>2019-01-08</th>\n",
       "      <td>19.547102</td>\n",
       "      <td>94474.0</td>\n",
       "    </tr>\n",
       "    <tr>\n",
       "      <th>2019-01-15</th>\n",
       "      <td>20.081991</td>\n",
       "      <td>96010.0</td>\n",
       "    </tr>\n",
       "    <tr>\n",
       "      <th>2019-01-22</th>\n",
       "      <td>19.484175</td>\n",
       "      <td>95444.0</td>\n",
       "    </tr>\n",
       "    <tr>\n",
       "      <th>2019-01-29</th>\n",
       "      <td>20.475292</td>\n",
       "      <td>98589.0</td>\n",
       "    </tr>\n",
       "  </tbody>\n",
       "</table>\n",
       "</div>"
      ],
      "text/plain": [
       "             PETR4.SA    ^BVSP\n",
       "Date                          \n",
       "2019-01-01  19.751621  91699.0\n",
       "2019-01-08  19.547102  94474.0\n",
       "2019-01-15  20.081991  96010.0\n",
       "2019-01-22  19.484175  95444.0\n",
       "2019-01-29  20.475292  98589.0"
      ]
     },
     "execution_count": 27,
     "metadata": {},
     "output_type": "execute_result"
    }
   ],
   "source": [
    "inicio = datetime.datetime(2019, 1, 1)\n",
    "fim = datetime.datetime(2021, 12, 31)\n",
    "\n",
    "tickers = ['PETR4.SA', '^BVSP']\n",
    "dados = pd.DataFrame()\n",
    "\n",
    "for i in tickers:\n",
    "    dados[i] = yf.download(i, start=inicio, end=fim, interval='1wk')['Adj Close']\n",
    "\n",
    "dados.head()"
   ]
  },
  {
   "cell_type": "markdown",
   "id": "07529e18",
   "metadata": {},
   "source": [
    "## Beta: yfinance"
   ]
  },
  {
   "cell_type": "code",
   "execution_count": 28,
   "id": "90c1884f",
   "metadata": {},
   "outputs": [],
   "source": [
    "beta = yf.Ticker(\"PETR4.SA\")"
   ]
  },
  {
   "cell_type": "code",
   "execution_count": 29,
   "id": "4ff590a0",
   "metadata": {},
   "outputs": [
    {
     "data": {
      "text/plain": [
       "1.34646"
      ]
     },
     "execution_count": 29,
     "metadata": {},
     "output_type": "execute_result"
    }
   ],
   "source": [
    "beta.info['beta']"
   ]
  },
  {
   "cell_type": "markdown",
   "id": "cad10540",
   "metadata": {},
   "source": [
    "## Retorno simples"
   ]
  },
  {
   "cell_type": "code",
   "execution_count": 30,
   "id": "18f335c5",
   "metadata": {},
   "outputs": [
    {
     "data": {
      "text/html": [
       "<div>\n",
       "<style scoped>\n",
       "    .dataframe tbody tr th:only-of-type {\n",
       "        vertical-align: middle;\n",
       "    }\n",
       "\n",
       "    .dataframe tbody tr th {\n",
       "        vertical-align: top;\n",
       "    }\n",
       "\n",
       "    .dataframe thead th {\n",
       "        text-align: right;\n",
       "    }\n",
       "</style>\n",
       "<table border=\"1\" class=\"dataframe\">\n",
       "  <thead>\n",
       "    <tr style=\"text-align: right;\">\n",
       "      <th></th>\n",
       "      <th>PETR4.SA</th>\n",
       "      <th>^BVSP</th>\n",
       "    </tr>\n",
       "    <tr>\n",
       "      <th>Date</th>\n",
       "      <th></th>\n",
       "      <th></th>\n",
       "    </tr>\n",
       "  </thead>\n",
       "  <tbody>\n",
       "    <tr>\n",
       "      <th>2021-11-22</th>\n",
       "      <td>0.111525</td>\n",
       "      <td>0.006753</td>\n",
       "    </tr>\n",
       "    <tr>\n",
       "      <th>2021-11-29</th>\n",
       "      <td>-0.019877</td>\n",
       "      <td>0.038589</td>\n",
       "    </tr>\n",
       "    <tr>\n",
       "      <th>2021-12-13</th>\n",
       "      <td>-0.045470</td>\n",
       "      <td>-0.022251</td>\n",
       "    </tr>\n",
       "    <tr>\n",
       "      <th>2021-12-20</th>\n",
       "      <td>0.020735</td>\n",
       "      <td>0.004854</td>\n",
       "    </tr>\n",
       "    <tr>\n",
       "      <th>2021-12-27</th>\n",
       "      <td>-0.008734</td>\n",
       "      <td>-0.006741</td>\n",
       "    </tr>\n",
       "  </tbody>\n",
       "</table>\n",
       "</div>"
      ],
      "text/plain": [
       "            PETR4.SA     ^BVSP\n",
       "Date                          \n",
       "2021-11-22  0.111525  0.006753\n",
       "2021-11-29 -0.019877  0.038589\n",
       "2021-12-13 -0.045470 -0.022251\n",
       "2021-12-20  0.020735  0.004854\n",
       "2021-12-27 -0.008734 -0.006741"
      ]
     },
     "execution_count": 30,
     "metadata": {},
     "output_type": "execute_result"
    }
   ],
   "source": [
    "retorno_simples = np.log(dados / dados.shift()).dropna()\n",
    "retorno_simples.tail()"
   ]
  },
  {
   "cell_type": "markdown",
   "id": "97e58d9d",
   "metadata": {},
   "source": [
    "## Beta: CAPM - Capital Asset Pricing Model"
   ]
  },
  {
   "cell_type": "code",
   "execution_count": 34,
   "id": "3fddfcd3",
   "metadata": {},
   "outputs": [
    {
     "data": {
      "text/html": [
       "<div>\n",
       "<style scoped>\n",
       "    .dataframe tbody tr th:only-of-type {\n",
       "        vertical-align: middle;\n",
       "    }\n",
       "\n",
       "    .dataframe tbody tr th {\n",
       "        vertical-align: top;\n",
       "    }\n",
       "\n",
       "    .dataframe thead th {\n",
       "        text-align: right;\n",
       "    }\n",
       "</style>\n",
       "<table border=\"1\" class=\"dataframe\">\n",
       "  <thead>\n",
       "    <tr style=\"text-align: right;\">\n",
       "      <th></th>\n",
       "      <th>valor</th>\n",
       "    </tr>\n",
       "    <tr>\n",
       "      <th>data</th>\n",
       "      <th></th>\n",
       "    </tr>\n",
       "  </thead>\n",
       "  <tbody>\n",
       "    <tr>\n",
       "      <th>2022-01-29</th>\n",
       "      <td>9.25</td>\n",
       "    </tr>\n",
       "    <tr>\n",
       "      <th>2022-01-30</th>\n",
       "      <td>9.25</td>\n",
       "    </tr>\n",
       "    <tr>\n",
       "      <th>2022-01-31</th>\n",
       "      <td>9.25</td>\n",
       "    </tr>\n",
       "    <tr>\n",
       "      <th>2022-02-01</th>\n",
       "      <td>9.25</td>\n",
       "    </tr>\n",
       "    <tr>\n",
       "      <th>2022-02-02</th>\n",
       "      <td>9.25</td>\n",
       "    </tr>\n",
       "  </tbody>\n",
       "</table>\n",
       "</div>"
      ],
      "text/plain": [
       "            valor\n",
       "data             \n",
       "2022-01-29   9.25\n",
       "2022-01-30   9.25\n",
       "2022-01-31   9.25\n",
       "2022-02-01   9.25\n",
       "2022-02-02   9.25"
      ]
     },
     "execution_count": 34,
     "metadata": {},
     "output_type": "execute_result"
    }
   ],
   "source": [
    "#Dados da Selic\n",
    "\n",
    "url = 'http://api.bcb.gov.br/dados/serie/bcdata.sgs.432/dados?formato=json'\n",
    "\n",
    "selic_meta = pd.read_json(url)\n",
    "\n",
    "#Adaptando a base de dados\n",
    "\n",
    "selic_meta['data'] = pd.to_datetime(selic_meta['data'], dayfirst=True)\n",
    "selic_meta.set_index('data', inplace=True)\n",
    "selic_meta.tail()"
   ]
  },
  {
   "cell_type": "code",
   "execution_count": 39,
   "id": "a0f4b533",
   "metadata": {},
   "outputs": [
    {
     "data": {
      "text/html": [
       "<div>\n",
       "<style scoped>\n",
       "    .dataframe tbody tr th:only-of-type {\n",
       "        vertical-align: middle;\n",
       "    }\n",
       "\n",
       "    .dataframe tbody tr th {\n",
       "        vertical-align: top;\n",
       "    }\n",
       "\n",
       "    .dataframe thead th {\n",
       "        text-align: right;\n",
       "    }\n",
       "</style>\n",
       "<table border=\"1\" class=\"dataframe\">\n",
       "  <thead>\n",
       "    <tr style=\"text-align: right;\">\n",
       "      <th></th>\n",
       "      <th>PETR4.SA</th>\n",
       "      <th>^BVSP</th>\n",
       "      <th>Selic</th>\n",
       "    </tr>\n",
       "    <tr>\n",
       "      <th>Date</th>\n",
       "      <th></th>\n",
       "      <th></th>\n",
       "      <th></th>\n",
       "    </tr>\n",
       "  </thead>\n",
       "  <tbody>\n",
       "    <tr>\n",
       "      <th>2019-01-08</th>\n",
       "      <td>-0.010409</td>\n",
       "      <td>0.029813</td>\n",
       "      <td>9.25</td>\n",
       "    </tr>\n",
       "    <tr>\n",
       "      <th>2019-01-15</th>\n",
       "      <td>0.026996</td>\n",
       "      <td>0.016128</td>\n",
       "      <td>9.25</td>\n",
       "    </tr>\n",
       "    <tr>\n",
       "      <th>2019-01-22</th>\n",
       "      <td>-0.030221</td>\n",
       "      <td>-0.005913</td>\n",
       "      <td>9.25</td>\n",
       "    </tr>\n",
       "    <tr>\n",
       "      <th>2019-01-29</th>\n",
       "      <td>0.049616</td>\n",
       "      <td>0.032420</td>\n",
       "      <td>9.25</td>\n",
       "    </tr>\n",
       "    <tr>\n",
       "      <th>2019-02-05</th>\n",
       "      <td>-0.046794</td>\n",
       "      <td>-0.043281</td>\n",
       "      <td>9.25</td>\n",
       "    </tr>\n",
       "  </tbody>\n",
       "</table>\n",
       "</div>"
      ],
      "text/plain": [
       "            PETR4.SA     ^BVSP  Selic\n",
       "Date                                 \n",
       "2019-01-08 -0.010409  0.029813   9.25\n",
       "2019-01-15  0.026996  0.016128   9.25\n",
       "2019-01-22 -0.030221 -0.005913   9.25\n",
       "2019-01-29  0.049616  0.032420   9.25\n",
       "2019-02-05 -0.046794 -0.043281   9.25"
      ]
     },
     "execution_count": 39,
     "metadata": {},
     "output_type": "execute_result"
    }
   ],
   "source": [
    "#Ativo livre de risco\n",
    "\n",
    "rf = selic_meta.iloc[-1]\n",
    "rf\n",
    "\n",
    "retorno_simples['Selic'] = 0\n",
    "\n",
    "for i in retorno_simples['Selic']:\n",
    "    retorno_simples['Selic'] = rf[0]\n",
    "    \n",
    "retorno_simples.head()"
   ]
  },
  {
   "cell_type": "code",
   "execution_count": 46,
   "id": "ecb30394",
   "metadata": {},
   "outputs": [],
   "source": [
    "#Utilizando a biblioteca Statsmodels\n",
    "\n",
    "y = retorno_simples['PETR4.SA']\n",
    "x = retorno_simples['^BVSP']\n",
    "#c = retorno_simples['Selic']\n",
    "\n",
    "X = sm.add_constant(x)\n",
    "resultado = sm.OLS(y, X).fit()"
   ]
  },
  {
   "cell_type": "code",
   "execution_count": 62,
   "id": "c52ef068",
   "metadata": {
    "scrolled": true
   },
   "outputs": [
    {
     "name": "stdout",
     "output_type": "stream",
     "text": [
      "                            OLS Regression Results                            \n",
      "==============================================================================\n",
      "Dep. Variable:               PETR4.SA   R-squared:                       0.633\n",
      "Model:                            OLS   Adj. R-squared:                  0.631\n",
      "Method:                 Least Squares   F-statistic:                     251.9\n",
      "Date:                Fri, 07 Jan 2022   Prob (F-statistic):           1.34e-33\n",
      "Time:                        13:56:22   Log-Likelihood:                 255.89\n",
      "No. Observations:                 148   AIC:                            -507.8\n",
      "Df Residuals:                     146   BIC:                            -501.8\n",
      "Df Model:                           1                                         \n",
      "Covariance Type:            nonrobust                                         \n",
      "==============================================================================\n",
      "                 coef    std err          t      P>|t|      [0.025      0.975]\n",
      "------------------------------------------------------------------------------\n",
      "const          0.0003      0.004      0.089      0.930      -0.007       0.007\n",
      "^BVSP          1.3995      0.088     15.873      0.000       1.225       1.574\n",
      "==============================================================================\n",
      "Omnibus:                       39.167   Durbin-Watson:                   2.419\n",
      "Prob(Omnibus):                  0.000   Jarque-Bera (JB):              252.306\n",
      "Skew:                          -0.688   Prob(JB):                     1.63e-55\n",
      "Kurtosis:                       9.247   Cond. No.                         24.8\n",
      "==============================================================================\n",
      "\n",
      "Notes:\n",
      "[1] Standard Errors assume that the covariance matrix of the errors is correctly specified.\n"
     ]
    }
   ],
   "source": [
    "print(resultado.summary())"
   ]
  },
  {
   "cell_type": "code",
   "execution_count": 49,
   "id": "c2645e6a",
   "metadata": {},
   "outputs": [],
   "source": [
    "#Utilizando a biblioteca Sklearn\n",
    "\n",
    "X = x.values.reshape(-1, 1)"
   ]
  },
  {
   "cell_type": "code",
   "execution_count": 50,
   "id": "14ba6db4",
   "metadata": {},
   "outputs": [
    {
     "data": {
      "text/plain": [
       "LinearRegression()"
      ]
     },
     "execution_count": 50,
     "metadata": {},
     "output_type": "execute_result"
    }
   ],
   "source": [
    "#Estimação do modelo\n",
    "\n",
    "reg = LinearRegression()\n",
    "reg.fit(X, y)"
   ]
  },
  {
   "cell_type": "code",
   "execution_count": 51,
   "id": "b247bd37",
   "metadata": {},
   "outputs": [
    {
     "data": {
      "text/plain": [
       "0.6331166901962169"
      ]
     },
     "execution_count": 51,
     "metadata": {},
     "output_type": "execute_result"
    }
   ],
   "source": [
    "#R-square\n",
    "\n",
    "reg.score(X, y)"
   ]
  },
  {
   "cell_type": "code",
   "execution_count": 52,
   "id": "9689bae3",
   "metadata": {},
   "outputs": [
    {
     "data": {
      "text/plain": [
       "0.0003147486486581231"
      ]
     },
     "execution_count": 52,
     "metadata": {},
     "output_type": "execute_result"
    }
   ],
   "source": [
    "#Intercepto\n",
    "\n",
    "reg.intercept_"
   ]
  },
  {
   "cell_type": "code",
   "execution_count": 53,
   "id": "f54bfc64",
   "metadata": {},
   "outputs": [
    {
     "data": {
      "text/plain": [
       "1.3995459214374033"
      ]
     },
     "execution_count": 53,
     "metadata": {},
     "output_type": "execute_result"
    }
   ],
   "source": [
    "#Coeficiente\n",
    "\n",
    "reg.coef_[0]"
   ]
  },
  {
   "cell_type": "code",
   "execution_count": 54,
   "id": "6bc5c609",
   "metadata": {},
   "outputs": [],
   "source": [
    "#Previsão do modelo\n",
    "\n",
    "y_chapeu = reg.predict(X)"
   ]
  },
  {
   "cell_type": "code",
   "execution_count": 59,
   "id": "cfbc2d03",
   "metadata": {},
   "outputs": [
    {
     "data": {
      "image/png": "[encoded data removed]",
      "text/plain": [
       "<Figure size 1152x576 with 1 Axes>"
      ]
     },
     "metadata": {},
     "output_type": "display_data"
    }
   ],
   "source": [
    "#Visualização\n",
    "\n",
    "plt.figure(figsize=(16, 8));\n",
    "plt.plot(x, y_chapeu, label='Reta de regressão (predição)', color='#ed1118', linewidth=3);\n",
    "plt.scatter(x, y, label='Dispersão', color='#2424ed', linewidth=0.8);\n",
    "plt.title('Predição versus valores reais ');\n",
    "plt.ylabel('Retorno do ativo');\n",
    "plt.xlabel('Retorno do mercado');\n",
    "plt.text(0.05, 0.2, f'ŷ = {np.round(reg.intercept_, 4)} + {np.round(reg.coef_[0], 3)} * Rm');\n",
    "plt.legend();"
   ]
  },
  {
   "cell_type": "markdown",
   "id": "bd1bc0dc",
   "metadata": {},
   "source": [
    "SCRIPT FINALIZADO!"
   ]
  }
 ],
 "metadata": {
  "kernelspec": {
   "display_name": "Python 3",
   "language": "python",
   "name": "python3"
  },
  "language_info": {
   "codemirror_mode": {
    "name": "ipython",
    "version": 3
   },
   "file_extension": ".py",
   "mimetype": "text/x-python",
   "name": "python",
   "nbconvert_exporter": "python",
   "pygments_lexer": "ipython3",
   "version": "3.8.8"
  }
 },
 "nbformat": 4,
 "nbformat_minor": 5
}
